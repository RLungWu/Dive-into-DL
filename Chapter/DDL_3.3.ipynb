{
  "nbformat": 4,
  "nbformat_minor": 0,
  "metadata": {
    "colab": {
      "provenance": [],
      "authorship_tag": "ABX9TyM+HZemJ41/TeoC+PnZ4iA+",
      "include_colab_link": true
    },
    "kernelspec": {
      "name": "python3",
      "display_name": "Python 3"
    },
    "language_info": {
      "name": "python"
    }
  },
  "cells": [
    {
      "cell_type": "markdown",
      "metadata": {
        "id": "view-in-github",
        "colab_type": "text"
      },
      "source": [
        "<a href=\"https://colab.research.google.com/github/RLungWu/Dive-into-DL/blob/main/Chapter/DDL_3.3.ipynb\" target=\"_parent\"><img src=\"https://colab.research.google.com/assets/colab-badge.svg\" alt=\"Open In Colab\"/></a>"
      ]
    },
    {
      "cell_type": "markdown",
      "source": [
        "## Dive into DL 3.3 簡潔實現Linear Regression"
      ],
      "metadata": {
        "id": "9f4r9-wm1KrV"
      }
    },
    {
      "cell_type": "code",
      "source": [
        "from datetime import datetime\n",
        "import pytz\n",
        "\n",
        "taiwan = pytz.timezone('Asia/Taipei')\n",
        "\n",
        "now = datetime.now(taiwan)\n",
        "\n",
        "print(f\"Start at: {now}\")\n"
      ],
      "metadata": {
        "colab": {
          "base_uri": "https://localhost:8080/"
        },
        "id": "LvysyVts1ZA3",
        "outputId": "ac88e287-4bf9-4645-9b3d-2f3c7f8efb92"
      },
      "execution_count": 1,
      "outputs": [
        {
          "output_type": "stream",
          "name": "stdout",
          "text": [
            "Start at: 2024-03-27 15:42:39.016504+08:00\n"
          ]
        }
      ]
    },
    {
      "cell_type": "code",
      "source": [
        "! pip install d2l"
      ],
      "metadata": {
        "id": "N_14LMav24Lj"
      },
      "execution_count": 2,
      "outputs": []
    },
    {
      "cell_type": "code",
      "source": [
        "import numpy as np\n",
        "import torch\n",
        "from torch.utils import data\n",
        "from d2l import torch as d2l\n",
        "\n",
        "true_w = torch.tensor([2, -3.4])\n",
        "true_b = 4.2\n",
        "features, labels = d2l.synthetic_data(true_w, true_b, 1000)"
      ],
      "metadata": {
        "id": "no9RyNJX1Y9O"
      },
      "execution_count": 6,
      "outputs": []
    },
    {
      "cell_type": "code",
      "source": [
        "def load_array(data_arrays, batch_size, is_train = True):\n",
        "    #Build a PyToch iterator\n",
        "    dataset = data.TensorDataset(*data_arrays)\n",
        "    return data.DataLoader(dataset, batch_size, shuffle=is_train)\n",
        "\n",
        "batch_size = 10\n",
        "data_iter = load_array((features, labels), batch_size)"
      ],
      "metadata": {
        "id": "9aYJeGor1Y6y"
      },
      "execution_count": 7,
      "outputs": []
    },
    {
      "cell_type": "code",
      "source": [
        "next(iter(data_iter))"
      ],
      "metadata": {
        "colab": {
          "base_uri": "https://localhost:8080/"
        },
        "id": "GF_CGpJB1Y4r",
        "outputId": "3cc77441-45e3-4b0f-edc2-97ecdb3ae771"
      },
      "execution_count": 8,
      "outputs": [
        {
          "output_type": "execute_result",
          "data": {
            "text/plain": [
              "[tensor([[-1.6756,  0.4719],\n",
              "         [ 1.1988,  1.0616],\n",
              "         [ 0.0132, -1.1724],\n",
              "         [ 0.1307,  3.0656],\n",
              "         [-0.0261,  0.3798],\n",
              "         [-0.4231,  0.5900],\n",
              "         [ 0.3869,  0.0581],\n",
              "         [-1.6162,  0.3271],\n",
              "         [ 0.6905,  0.1119],\n",
              "         [-1.3080,  0.7182]]),\n",
              " tensor([[-0.7392],\n",
              "         [ 2.9942],\n",
              "         [ 8.2246],\n",
              "         [-5.9584],\n",
              "         [ 2.8558],\n",
              "         [ 1.3400],\n",
              "         [ 4.7902],\n",
              "         [-0.1492],\n",
              "         [ 5.1900],\n",
              "         [-0.8515]])]"
            ]
          },
          "metadata": {},
          "execution_count": 8
        }
      ]
    },
    {
      "cell_type": "markdown",
      "source": [
        "### 定義模型"
      ],
      "metadata": {
        "id": "X23BOsQe4bkl"
      }
    },
    {
      "cell_type": "code",
      "source": [
        "from torch import nn\n",
        "\n",
        "net = nn.Sequential(nn.Linear(2,1))"
      ],
      "metadata": {
        "id": "3I7QQQPP1Y2F"
      },
      "execution_count": 9,
      "outputs": []
    },
    {
      "cell_type": "markdown",
      "source": [
        "### 初始化模型"
      ],
      "metadata": {
        "id": "WJpPA5-74W45"
      }
    },
    {
      "cell_type": "code",
      "source": [
        "net[0].weight.data.normal_(0, 0.01)\n",
        "net[0].bias.data.fill_(0)"
      ],
      "metadata": {
        "colab": {
          "base_uri": "https://localhost:8080/"
        },
        "id": "h0fAp27o1YzU",
        "outputId": "d1a409b8-5422-4e61-803d-fe59ed14e62f"
      },
      "execution_count": 10,
      "outputs": [
        {
          "output_type": "execute_result",
          "data": {
            "text/plain": [
              "tensor([0.])"
            ]
          },
          "metadata": {},
          "execution_count": 10
        }
      ]
    },
    {
      "cell_type": "markdown",
      "source": [
        "### 損失函數"
      ],
      "metadata": {
        "id": "u9D5ANzA4Ur9"
      }
    },
    {
      "cell_type": "code",
      "source": [
        "loss = nn.MSELoss()"
      ],
      "metadata": {
        "id": "jzUij67S1Yww"
      },
      "execution_count": 11,
      "outputs": []
    },
    {
      "cell_type": "markdown",
      "source": [
        "### 定義優化算法"
      ],
      "metadata": {
        "id": "M9j2XCP24hR_"
      }
    },
    {
      "cell_type": "code",
      "execution_count": 12,
      "metadata": {
        "id": "rLCs3DDQ1IbK"
      },
      "outputs": [],
      "source": [
        "trainer = torch.optim.SGD(net.parameters(), lr=0.03)"
      ]
    },
    {
      "cell_type": "markdown",
      "source": [
        "### Train"
      ],
      "metadata": {
        "id": "sNhZFmo747K3"
      }
    },
    {
      "cell_type": "code",
      "source": [
        "num_epochs = 3\n",
        "for epoch in range(num_epochs):\n",
        "    for X, y in data_iter:\n",
        "        l = loss(net(X), y)\n",
        "        trainer.zero_grad()\n",
        "        l.backward()\n",
        "        trainer.step()\n",
        "    l = loss(net(features), labels)\n",
        "    print(f\"epoch {epoch + 1}, loss {l:f}\")"
      ],
      "metadata": {
        "colab": {
          "base_uri": "https://localhost:8080/"
        },
        "id": "u0bQddnA295L",
        "outputId": "521dc77e-1c4c-48f1-baf6-da0b11f68e74"
      },
      "execution_count": 14,
      "outputs": [
        {
          "output_type": "stream",
          "name": "stdout",
          "text": [
            "epoch 1, loss 0.000106\n",
            "epoch 2, loss 0.000107\n",
            "epoch 3, loss 0.000108\n"
          ]
        }
      ]
    },
    {
      "cell_type": "code",
      "source": [
        "w = net[0].weight.data\n",
        "print(f\"w: {w}\")\n",
        "print(f\"Estimated loss: \", true_w - w.reshape(true_w.shape))\n",
        "\n",
        "b = net[0].bias.data\n",
        "print(b)\n",
        "print('Estimate of b: ', true_b - b)"
      ],
      "metadata": {
        "colab": {
          "base_uri": "https://localhost:8080/"
        },
        "id": "9m2YHllU292g",
        "outputId": "036e05fd-16cb-4cf3-b6ff-2c6f5885a00e"
      },
      "execution_count": 15,
      "outputs": [
        {
          "output_type": "stream",
          "name": "stdout",
          "text": [
            "w: tensor([[ 1.9989, -3.4005]])\n",
            "Estimated loss:  tensor([0.0011, 0.0005])\n",
            "tensor([4.2010])\n",
            "Estimate of b:  tensor([-0.0010])\n"
          ]
        }
      ]
    },
    {
      "cell_type": "code",
      "source": [],
      "metadata": {
        "id": "rXhfW5vj9uYt"
      },
      "execution_count": null,
      "outputs": []
    },
    {
      "cell_type": "code",
      "source": [],
      "metadata": {
        "id": "7gvXX6zt85Ic"
      },
      "execution_count": null,
      "outputs": []
    },
    {
      "cell_type": "code",
      "source": [],
      "metadata": {
        "id": "u-zqDkaP85FI"
      },
      "execution_count": null,
      "outputs": []
    },
    {
      "cell_type": "code",
      "source": [],
      "metadata": {
        "id": "HY2OR2K385Ch"
      },
      "execution_count": null,
      "outputs": []
    }
  ]
}